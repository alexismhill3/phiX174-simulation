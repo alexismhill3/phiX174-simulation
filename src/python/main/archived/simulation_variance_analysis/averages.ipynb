{
 "cells": [
  {
   "cell_type": "code",
   "execution_count": 25,
   "id": "3bf84ecb-7401-4582-9864-06e0be002a71",
   "metadata": {},
   "outputs": [],
   "source": [
    "import pandas as pd\n",
    "from sklearn.metrics import mean_squared_error"
   ]
  },
  {
   "cell_type": "code",
   "execution_count": 20,
   "id": "f9cafd64-0bfd-4c19-a511-0b9161f69b78",
   "metadata": {},
   "outputs": [],
   "source": [
    "sim = pd.DataFrame()\n",
    "\n",
    "for i in range(5):\n",
    "    file = f\"test_parallel/sim_1_ID_{i}.tsv\"\n",
    "    tmp = pd.read_csv(file, sep=\"\\t\")\n",
    "    tmp = tmp.round({'time': 0})\n",
    "    tmp = tmp[tmp['time'] == 500.0]\n",
    "    tmp = tmp[tmp.species.str.match(\"gene_\")]\n",
    "    sim = sim.append(tmp) "
   ]
  },
  {
   "cell_type": "code",
   "execution_count": 23,
   "id": "dbb6a1c6-f436-4084-8b36-93b04fa4b390",
   "metadata": {},
   "outputs": [
    {
     "data": {
      "text/html": [
       "<div>\n",
       "<style scoped>\n",
       "    .dataframe tbody tr th:only-of-type {\n",
       "        vertical-align: middle;\n",
       "    }\n",
       "\n",
       "    .dataframe tbody tr th {\n",
       "        vertical-align: top;\n",
       "    }\n",
       "\n",
       "    .dataframe thead th {\n",
       "        text-align: right;\n",
       "    }\n",
       "</style>\n",
       "<table border=\"1\" class=\"dataframe\">\n",
       "  <thead>\n",
       "    <tr style=\"text-align: right;\">\n",
       "      <th></th>\n",
       "      <th>time</th>\n",
       "      <th>protein</th>\n",
       "      <th>transcript</th>\n",
       "      <th>ribo_density</th>\n",
       "    </tr>\n",
       "    <tr>\n",
       "      <th>species</th>\n",
       "      <th></th>\n",
       "      <th></th>\n",
       "      <th></th>\n",
       "      <th></th>\n",
       "    </tr>\n",
       "  </thead>\n",
       "  <tbody>\n",
       "    <tr>\n",
       "      <th>gene_A</th>\n",
       "      <td>500.0</td>\n",
       "      <td>221.4</td>\n",
       "      <td>5.2</td>\n",
       "      <td>6.760000</td>\n",
       "    </tr>\n",
       "    <tr>\n",
       "      <th>gene_A*</th>\n",
       "      <td>500.0</td>\n",
       "      <td>169.4</td>\n",
       "      <td>5.2</td>\n",
       "      <td>3.870000</td>\n",
       "    </tr>\n",
       "    <tr>\n",
       "      <th>gene_B</th>\n",
       "      <td>500.0</td>\n",
       "      <td>5855.0</td>\n",
       "      <td>130.2</td>\n",
       "      <td>1.326535</td>\n",
       "    </tr>\n",
       "    <tr>\n",
       "      <th>gene_C</th>\n",
       "      <td>500.0</td>\n",
       "      <td>4693.4</td>\n",
       "      <td>126.4</td>\n",
       "      <td>0.987776</td>\n",
       "    </tr>\n",
       "    <tr>\n",
       "      <th>gene_D</th>\n",
       "      <td>500.0</td>\n",
       "      <td>11335.6</td>\n",
       "      <td>269.4</td>\n",
       "      <td>1.881710</td>\n",
       "    </tr>\n",
       "    <tr>\n",
       "      <th>gene_E</th>\n",
       "      <td>500.0</td>\n",
       "      <td>9626.4</td>\n",
       "      <td>266.6</td>\n",
       "      <td>1.022588</td>\n",
       "    </tr>\n",
       "    <tr>\n",
       "      <th>gene_F</th>\n",
       "      <td>500.0</td>\n",
       "      <td>6276.4</td>\n",
       "      <td>169.8</td>\n",
       "      <td>4.985576</td>\n",
       "    </tr>\n",
       "    <tr>\n",
       "      <th>gene_G</th>\n",
       "      <td>500.0</td>\n",
       "      <td>3793.8</td>\n",
       "      <td>113.4</td>\n",
       "      <td>2.148758</td>\n",
       "    </tr>\n",
       "    <tr>\n",
       "      <th>gene_H</th>\n",
       "      <td>500.0</td>\n",
       "      <td>1360.8</td>\n",
       "      <td>49.2</td>\n",
       "      <td>4.000758</td>\n",
       "    </tr>\n",
       "    <tr>\n",
       "      <th>gene_J</th>\n",
       "      <td>500.0</td>\n",
       "      <td>9585.6</td>\n",
       "      <td>262.0</td>\n",
       "      <td>0.429542</td>\n",
       "    </tr>\n",
       "    <tr>\n",
       "      <th>gene_K</th>\n",
       "      <td>500.0</td>\n",
       "      <td>4964.8</td>\n",
       "      <td>126.8</td>\n",
       "      <td>0.694364</td>\n",
       "    </tr>\n",
       "  </tbody>\n",
       "</table>\n",
       "</div>"
      ],
      "text/plain": [
       "          time  protein  transcript  ribo_density\n",
       "species                                          \n",
       "gene_A   500.0    221.4         5.2      6.760000\n",
       "gene_A*  500.0    169.4         5.2      3.870000\n",
       "gene_B   500.0   5855.0       130.2      1.326535\n",
       "gene_C   500.0   4693.4       126.4      0.987776\n",
       "gene_D   500.0  11335.6       269.4      1.881710\n",
       "gene_E   500.0   9626.4       266.6      1.022588\n",
       "gene_F   500.0   6276.4       169.8      4.985576\n",
       "gene_G   500.0   3793.8       113.4      2.148758\n",
       "gene_H   500.0   1360.8        49.2      4.000758\n",
       "gene_J   500.0   9585.6       262.0      0.429542\n",
       "gene_K   500.0   4964.8       126.8      0.694364"
      ]
     },
     "execution_count": 23,
     "metadata": {},
     "output_type": "execute_result"
    }
   ],
   "source": [
    "av = sim.groupby(\"species\").mean()\n",
    "av"
   ]
  },
  {
   "cell_type": "code",
   "execution_count": 27,
   "id": "fc413d3d-efd7-4976-a999-211d59412ca0",
   "metadata": {},
   "outputs": [
    {
     "name": "stdout",
     "output_type": "stream",
     "text": [
      "23.42935\n"
     ]
    }
   ],
   "source": [
    "av[\"exp\"] = [17, 17, 102, 102, 289, 289, 187, 85, 17, 289, 102]\n",
    "error = round(mean_squared_error(av.exp, av.transcript, squared=False), 5)\n",
    "print(error)"
   ]
  },
  {
   "cell_type": "code",
   "execution_count": null,
   "id": "62625297-6b75-4c5e-a25f-51e5d8f04934",
   "metadata": {},
   "outputs": [],
   "source": []
  }
 ],
 "metadata": {
  "kernelspec": {
   "display_name": "Python 3",
   "language": "python",
   "name": "python3"
  },
  "language_info": {
   "codemirror_mode": {
    "name": "ipython",
    "version": 3
   },
   "file_extension": ".py",
   "mimetype": "text/x-python",
   "name": "python",
   "nbconvert_exporter": "python",
   "pygments_lexer": "ipython3",
   "version": "3.6.9"
  }
 },
 "nbformat": 4,
 "nbformat_minor": 5
}
