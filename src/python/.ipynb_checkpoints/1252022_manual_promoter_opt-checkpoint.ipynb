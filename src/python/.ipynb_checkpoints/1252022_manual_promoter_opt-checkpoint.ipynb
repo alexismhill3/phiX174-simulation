{
 "cells": [
  {
   "cell_type": "code",
   "execution_count": 18,
   "id": "9354d464",
   "metadata": {},
   "outputs": [],
   "source": [
    "import pandas as pd\n",
    "import numpy as np\n",
    "import pinetree as pt\n",
    "from sklearn.metrics import mean_squared_error \n",
    "base_dir = \"/Users/tanviingle/Documents/Wilke/phix174/\"\n",
    "\n",
    "def run_pt(test):\n",
    "    print(\"Defining PhiX-174 genome\")\n",
    "    \n",
    "    # Create host cell & genome\n",
    "    CELL_VOLUME = 1.1e-15 # from T7\n",
    "    model = pt.Model(cell_volume=CELL_VOLUME)\n",
    "    phage = pt.Genome(name=\"phix_174\", length=5386)\n",
    "    \n",
    "    # Read genomic coordinates from csv into dataframe\n",
    "    genomic_coords = pd.read_csv(base_dir + \"output/\" + \"genomic_coords.csv\")\n",
    "    print(genomic_coords.at[0, \"type\"])\n",
    "    \n",
    "    \n",
    "    # Add genomic ns (loop through ^ df); hardcode necessary strengths according to preomtimized_model\n",
    "    ## for length of genomic_coords, add elements\n",
    "    #for n in genomic_coords:{\n",
    "    n = 0\n",
    "    while(n < len(genomic_coords)):\n",
    "        \n",
    "        if genomic_coords.at[n, \"type\"] == \"gene\": \n",
    "            phage.add_gene(name= genomic_coords.at[n, \"type\"] + \"_\" + genomic_coords.at[n, \"name\"], \n",
    "                           start= genomic_coords.at[n, \"new_start\"], \n",
    "                           stop= genomic_coords.at[n, \"new_end\"],\n",
    "                           rbs_start=genomic_coords.at[n, \"new_start\"], \n",
    "                           rbs_stop=genomic_coords.at[n, \"new_start\"] + 15, rbs_strength=1e7) \n",
    "\n",
    "        elif genomic_coords.at[n, \"type\"] == \"promoter\" and genomic_coords.at[n, \"name\"] == \"A\":\n",
    "            phage.add_promoter(name= genomic_coords.at[n, \"type\"] + \"_\" + genomic_coords.at[n, \"name\"], \n",
    "                               start= genomic_coords.at[n, \"new_start\"], \n",
    "                               stop= genomic_coords.at[n, \"new_end\"],\n",
    "                               interactions={\"ecolipol\": np.exp(12.21)})\n",
    "\n",
    "        elif genomic_coords.at[n, \"type\"] == \"promoter\" and genomic_coords.at[n, \"name\"] == \"B1\":\n",
    "            phage.add_promoter(name= genomic_coords.at[n, \"type\"] + \"_\" + genomic_coords.at[n, \"name\"], \n",
    "                               start= genomic_coords.at[n, \"new_start\"], \n",
    "                               stop= genomic_coords.at[n, \"new_end\"],\n",
    "                               interactions={\"ecolipol\": np.exp(14.20)})\n",
    "\n",
    "        elif genomic_coords.at[n, \"type\"] == \"promoter\" and genomic_coords.at[n, \"name\"] == \"D\":\n",
    "            phage.add_promoter(name= genomic_coords.at[n, \"type\"] + \"_\" + genomic_coords.at[n, \"name\"], \n",
    "                               start= genomic_coords.at[n, \"new_start\"], \n",
    "                               stop= genomic_coords.at[n, \"new_end\"],\n",
    "                               interactions={\"ecolipol\": np.exp(15.55)})\n",
    "\n",
    "        else:\n",
    "            print(\"ignoring pB2\")\n",
    "\n",
    "        n = n+1\n",
    "    \n",
    "    print(\"all genes and promoters added\")\n",
    "    \n",
    "    # Add terminators manually \n",
    "    phage.add_terminator(name=\"terminator_J\", start=2402, stop=2403, # Right before gene F start=2404, stop=3687,\n",
    "                       efficiency={\"ecolipol\": 0.3}) \n",
    "    phage.add_terminator(name=\"terminator_F\", start=3796, stop=3797, # Right before gene G start=3798, stop=4325\n",
    "                     efficiency={\"ecolipol\": 0.2}) \n",
    "    phage.add_terminator(name=\"terminator_G\", start=4332, stop=4333, # Right before gene H start=4334, stop=5320\n",
    "                     efficiency={\"ecolipol\": 0.3}) \n",
    "    phage.add_terminator(name=\"terminator_H\", start=5321, stop=5322, # Right after gene H\n",
    "                     efficiency={\"ecolipol\": 0.7}) \n",
    "    \n",
    "    print(\"all terminators added\")\n",
    "    \n",
    "    # Register genome after promoters/terminators are added\n",
    "    model.register_genome(phage)\n",
    "    print(\"genome is registered\")\n",
    "\n",
    "    # Define interactions\n",
    "    print(\"Defining Polymerases & Interactions\")\n",
    "    # Add polymerases & species\n",
    "    model.add_polymerase(name=\"ecolipol\", speed=35, footprint=35, copy_number=0)\n",
    "    model.add_species(\"bound_ecolipol\", 1800)  # initialization\n",
    "    model.add_species(\"ecoli_genome\", 0)\n",
    "    model.add_species(\"ecoli_transcript\", 0)\n",
    "    model.add_reaction(1e6, [\"ecolipol\", \"ecoli_genome\"], [\"bound_ecolipol\"]) # 1e7\n",
    "    model.add_reaction(0.04, [\"bound_ecolipol\"], [\"ecolipol\", \"ecoli_genome\", \"ecoli_transcript\"])\n",
    "    model.add_ribosome(10, 30, 100)\n",
    "    model.add_species(\"bound_ribosome\", 100)\n",
    "    model.seed(34)\n",
    "    \n",
    "    # Run simulation\n",
    "    print(\"running simulation\")\n",
    "    model.simulate(time_limit=2000, time_step=5, output= base_dir + \"output/manual/\"+str(test)+\".tsv\") # TODO change limit\n",
    "    print(\"Simulation successful!\")\n"
   ]
  },
  {
   "cell_type": "code",
   "execution_count": 19,
   "id": "13357354",
   "metadata": {},
   "outputs": [
    {
     "name": "stdout",
     "output_type": "stream",
     "text": [
      "Defining PhiX-174 genome\n",
      "gene\n",
      "ignoring pB2\n",
      "all genes and promoters added\n",
      "all terminators added\n",
      "genome is registered\n",
      "Defining Polymerases & Interactions\n",
      "running simulation\n",
      "Simulation successful!\n"
     ]
    }
   ],
   "source": [
    "run_pt(\"7\")"
   ]
  },
  {
   "cell_type": "code",
   "execution_count": 23,
   "id": "dfc7f550",
   "metadata": {},
   "outputs": [
    {
     "name": "stdout",
     "output_type": "stream",
     "text": [
      "scale =  0.20072082822043763\n",
      "sign =  1\n",
      "new scale =  0.20072082822043763\n",
      "step =  1.605766625763501\n",
      "new exp =  4.981677221313641\n",
      "162759.77309622522\n"
     ]
    }
   ],
   "source": [
    "import numpy as np\n",
    "\n",
    "pB = np.exp(12)\n",
    "oB = 8\n",
    "\n",
    "# make sure scale is between [-1 and 1]\n",
    "scale = (np.random.normal(0, 0.2, 1)[0])\n",
    "while abs(scale) > 1:\n",
    "    scale = np.random.normal(0, 0.2, 1)[0]\n",
    "    \n",
    "print(\"scale = \", scale)\n",
    "# extract sign on scale \n",
    "sign = 1\n",
    "\n",
    "if scale < 0:\n",
    "    sign = -1\n",
    "\n",
    "print(\"sign = \", sign)\n",
    "\n",
    "scale = abs(scale)\n",
    "print (\"new scale = \", scale)\n",
    "\n",
    "step = oB * scale\n",
    "print(\"step = \", step)\n",
    "\n",
    "new_exp = np.exp(step)*sign\n",
    "print(\"new exp = \", new_exp)\n",
    "\n",
    "new_pB = pB + (np.exp(step)*sign)\n",
    "\n",
    "print(new_pB)"
   ]
  },
  {
   "cell_type": "code",
   "execution_count": 22,
   "id": "6554c6d3",
   "metadata": {},
   "outputs": [
    {
     "data": {
      "text/plain": [
       "-2980.9579870417283"
      ]
     },
     "execution_count": 22,
     "metadata": {},
     "output_type": "execute_result"
    }
   ],
   "source": [
    "np.exp(8)*-1"
   ]
  },
  {
   "cell_type": "code",
   "execution_count": 28,
   "id": "d3ebf633",
   "metadata": {},
   "outputs": [
    {
     "name": "stdout",
     "output_type": "stream",
     "text": [
      "4.5\n",
      "step =  -0.09166101580803057\n",
      "increment by =  -2018.9682294128233\n",
      "pA =  160735.8231895911\n"
     ]
    }
   ],
   "source": [
    "oA = 10\n",
    "\n",
    "step = (np.random.normal(0, 0.2, 1)[0])\n",
    "\n",
    "print(step)\n",
    "while (abs(step) > 1 or step == 0) :\n",
    "    step = np.random.normal(0, 0.2, 1)[0]\n",
    "\n",
    "print(\"step = \", step)\n",
    "print(\"increment by = \", step*np.exp(oA))\n",
    "\n",
    "pA = np.exp(12) + (step*np.exp(oA))\n",
    "\n",
    "print(\"pA = \", pA)"
   ]
  },
  {
   "cell_type": "code",
   "execution_count": null,
   "id": "409eb620",
   "metadata": {},
   "outputs": [],
   "source": []
  },
  {
   "cell_type": "code",
   "execution_count": null,
   "id": "2b690199",
   "metadata": {},
   "outputs": [],
   "source": []
  }
 ],
 "metadata": {
  "kernelspec": {
   "display_name": "Python 3",
   "language": "python",
   "name": "python3"
  },
  "language_info": {
   "codemirror_mode": {
    "name": "ipython",
    "version": 3
   },
   "file_extension": ".py",
   "mimetype": "text/x-python",
   "name": "python",
   "nbconvert_exporter": "python",
   "pygments_lexer": "ipython3",
   "version": "3.8.8"
  }
 },
 "nbformat": 4,
 "nbformat_minor": 5
}
