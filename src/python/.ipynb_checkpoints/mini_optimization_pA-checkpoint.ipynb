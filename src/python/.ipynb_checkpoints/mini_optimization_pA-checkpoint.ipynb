{
 "cells": [
  {
   "cell_type": "markdown",
   "id": "2a79121f",
   "metadata": {},
   "source": [
    "### Mini Optimization Script\n",
    "\n",
    "In this script, I will optimize 1 parameter (promoter A binding strength) using first the hill climbing algorithm \n",
    "\n",
    "Overarching steps in this script:\n",
    "1. Define a function that accepts initial parameter estimate for promoter strength (initial pA strength) \n",
    "2. Define an error function that calculates RMSE between experimental value & pinetree output \n",
    "3. Apply a hill climbing algorithm that uses error function "
   ]
  },
  {
   "cell_type": "markdown",
   "id": "4f6fd4a9",
   "metadata": {},
   "source": [
    "#### Import relevant packages\n",
    "insert details on versions"
   ]
  },
  {
   "cell_type": "code",
   "execution_count": 41,
   "id": "06dd8617",
   "metadata": {},
   "outputs": [],
   "source": [
    "import pandas as pd\n",
    "import numpy as np\n",
    "import pinetree as pt\n",
    "from sklearn.metrics import mean_squared_error "
   ]
  },
  {
   "cell_type": "markdown",
   "id": "47a7d517",
   "metadata": {},
   "source": [
    "#### FUNCTION wrapper()\n",
    "1. Have global vars (gen, pA, step, error df); create while loop with error condition (step 5) \n",
    "2. run_pt()\n",
    "3. pass gen --> calculate error\n",
    "4. pass gen, pA, error --> error df store\n",
    "5. if newest error <= older error, continue. else, stop"
   ]
  },
  {
   "cell_type": "code",
   "execution_count": null,
   "id": "a9791192",
   "metadata": {},
   "outputs": [],
   "source": [
    "# Starting values\n",
    "base_dir = \"/Users/tanviingle/Documents/Wilke/phix174/\"\n",
    "gen = 0\n",
    "pA = 2e5\n",
    "total_gen = 100\n",
    "report_df = pd.DataFrame(np.nan, index = np.arange(total_gen), columns = ['gen', 'pA', 'error'])"
   ]
  },
  {
   "cell_type": "code",
   "execution_count": null,
   "id": "e1a7e463",
   "metadata": {},
   "outputs": [],
   "source": [
    "def wrapper(gen, pA, step, error):"
   ]
  },
  {
   "cell_type": "markdown",
   "id": "3882adab",
   "metadata": {},
   "source": [
    "#### Global variables (KEY)\n",
    "\n",
    "Here is a list of my global variables\n",
    "1. gen = the generation number, ie trial 1 optimization, trial 2...etc\n",
    "2. pA = strength of promoter A\n",
    "3. report_df = dataframe with columns gen | pA | error"
   ]
  },
  {
   "cell_type": "code",
   "execution_count": 3,
   "id": "3157429c",
   "metadata": {
    "scrolled": true
   },
   "outputs": [],
   "source": [
    "# Starting values\n",
    "base_dir = \"/Users/tanviingle/Documents/Wilke/phix174/\"\n",
    "gen = 0\n",
    "pA = 2e5\n",
    "total_gen = 100\n",
    "report_df = pd.DataFrame(np.nan, index = np.arange(total_gen), columns = ['gen', 'pA', 'error'])"
   ]
  },
  {
   "cell_type": "markdown",
   "id": "3f4feacd",
   "metadata": {},
   "source": [
    "#### FUNCTION run_pt(gen, pA)\n",
    "This function runs the pinetree simulation\n",
    "\n",
    "Steps in this script: \n",
    "1. Read genomic coordinates from file & add genes \n",
    "2. Add promoters (pA will be passed into the function) \n",
    "3. Add terminators from genomic coordinates & define interactions (borrow from preoptimized_model code) \n",
    "4. Run simulation & output to file named gen_#.csv\n"
   ]
  },
  {
   "cell_type": "code",
   "execution_count": 16,
   "id": "188aeab0",
   "metadata": {},
   "outputs": [],
   "source": [
    "def run_pt(gen, pA):\n",
    "\n",
    "    print(gen, pA)\n",
    "    print(\"Defining PhiX-174 genome\")\n",
    "    \n",
    "    # Create host cell & genome\n",
    "    CELL_VOLUME = 1.1e-15 # from T7\n",
    "    model = pt.Model(cell_volume=CELL_VOLUME)\n",
    "    phage = pt.Genome(name=\"phix_174\", length=5386)\n",
    "    \n",
    "    # Read genomic coordinates from csv into dataframe\n",
    "    genomic_coords = pd.read_csv(base_dir + \"output/\" + \"genomic_coords.csv\")\n",
    "    print(genomic_coords.at[0, \"type\"])\n",
    "    \n",
    "    \n",
    "    # Add genomic ns (loop through ^ df); hardcode necessary strengths according to preomtimized_model\n",
    "    ## for length of genomic_coords, add elements\n",
    "    #for n in genomic_coords:{\n",
    "    n = 0\n",
    "    while(n < len(genomic_coords)):\n",
    "        \n",
    "        if genomic_coords.at[n, \"type\"] == \"gene\": \n",
    "            phage.add_gene(name= genomic_coords.at[n, \"type\"] + \"_\" + genomic_coords.at[n, \"name\"], \n",
    "                           start= genomic_coords.at[n, \"new_start\"], \n",
    "                           stop= genomic_coords.at[n, \"new_end\"],\n",
    "                           rbs_start=genomic_coords.at[n, \"new_start\"], \n",
    "                           rbs_stop=genomic_coords.at[n, \"new_start\"] + 15, rbs_strength=1e7) \n",
    "\n",
    "        elif genomic_coords.at[n, \"type\"] == \"promoter\" and genomic_coords.at[n, \"name\"] == \"A\":\n",
    "            phage.add_promoter(name= genomic_coords.at[n, \"type\"] + \"_\" + genomic_coords.at[n, \"name\"], \n",
    "                               start= genomic_coords.at[n, \"new_start\"], \n",
    "                               stop= genomic_coords.at[n, \"new_end\"],\n",
    "                               interactions={\"ecolipol\": pA})\n",
    "\n",
    "        elif genomic_coords.at[n, \"type\"] == \"promoter\" and genomic_coords.at[n, \"name\"] == \"B1\":\n",
    "            phage.add_promoter(name= genomic_coords.at[n, \"type\"] + \"_\" + genomic_coords.at[n, \"name\"], \n",
    "                               start= genomic_coords.at[n, \"new_start\"], \n",
    "                               stop= genomic_coords.at[n, \"new_end\"],\n",
    "                               interactions={\"ecolipol\": 5e7})\n",
    "\n",
    "        elif genomic_coords.at[n, \"type\"] == \"promoter\" and genomic_coords.at[n, \"name\"] == \"D\":\n",
    "            phage.add_promoter(name= genomic_coords.at[n, \"type\"] + \"_\" + genomic_coords.at[n, \"name\"], \n",
    "                               start= genomic_coords.at[n, \"new_start\"], \n",
    "                               stop= genomic_coords.at[n, \"new_end\"],\n",
    "                               interactions={\"ecolipol\": 2e6})\n",
    "\n",
    "        else:\n",
    "            print(\"ignoring pB2\")\n",
    "\n",
    "        n = n+1\n",
    "    \n",
    "    print(\"all genes and promoters added\")\n",
    "    \n",
    "    # Add terminators manually \n",
    "    phage.add_terminator(name=\"terminator_J\", start=2402, stop=2403, # Right before gene F start=2404, stop=3687,\n",
    "                       efficiency={\"ecolipol\": 0.7}) # 0.7\n",
    "    phage.add_terminator(name=\"terminator_F\", start=3796, stop=3797, # Right before gene G start=3798, stop=4325\n",
    "                     efficiency={\"ecolipol\": 0.8}) # 0.8\n",
    "    phage.add_terminator(name=\"terminator_G\", start=4332, stop=4333, # Right before gene H start=4334, stop=5320\n",
    "                     efficiency={\"ecolipol\": 0.6}) # 0.6\n",
    "    phage.add_terminator(name=\"terminator_H\", start=5321, stop=5322, # Right after gene H\n",
    "                     efficiency={\"ecolipol\": 0.3}) # 0.3\n",
    "\n",
    "    print(\"all terminators added\")\n",
    "    \n",
    "    # Register genome after promoters/terminators are added\n",
    "    model.register_genome(phage)\n",
    "    print(\"genome is registered\")\n",
    "\n",
    "    # Define interactions\n",
    "    print(\"Defining Polymerases & Interactions\")\n",
    "    # Add polymerases & species\n",
    "    model.add_polymerase(name=\"ecolipol\", speed=35, footprint=35, copy_number=0)\n",
    "    model.add_species(\"bound_ecolipol\", 1800)  # initialization\n",
    "    model.add_species(\"ecoli_genome\", 0)\n",
    "    model.add_species(\"ecoli_transcript\", 0)\n",
    "    model.add_reaction(1e6, [\"ecolipol\", \"ecoli_genome\"], [\"bound_ecolipol\"]) # 1e7\n",
    "    model.add_reaction(0.04, [\"bound_ecolipol\"], [\"ecolipol\", \"ecoli_genome\", \"ecoli_transcript\"])\n",
    "    model.add_ribosome(10, 30, 100)\n",
    "    model.add_species(\"bound_ribosome\", 100)\n",
    "    model.seed(34)\n",
    "    \n",
    "    # Run simulation\n",
    "    print(\"running simulation\")\n",
    "    model.simulate(time_limit=1200, time_step=5, output= base_dir + \"output/gen_\"+str(gen)+\".tsv\") # TODO change limit\n",
    "    print(\"Simulation successful!\")"
   ]
  },
  {
   "cell_type": "code",
   "execution_count": 17,
   "id": "697ff156",
   "metadata": {},
   "outputs": [
    {
     "name": "stdout",
     "output_type": "stream",
     "text": [
      "0 200000.0\n",
      "Defining PhiX-174 genome\n",
      "gene\n",
      "ignoring pB2\n",
      "all genes and promoters added\n",
      "all terminators added\n",
      "genome is registered\n",
      "Defining Polymerases & Interactions\n",
      "running simulation\n",
      "Simulation successful!\n"
     ]
    }
   ],
   "source": [
    "run_pt(gen, pA)"
   ]
  },
  {
   "cell_type": "markdown",
   "id": "cc197e33",
   "metadata": {},
   "source": [
    "#### FUNCTION get_error()\n",
    "This function calculates the RMSE between experimental & pinetree transcript values \n",
    "\n",
    "Steps in this script: \n",
    "1. Read in output file & extract final timepoint only\n",
    "2. Hardcode experimental values \n",
    "3. Normalize simulated values \n",
    "4. RMSE calculation\n",
    "\n",
    "\n",
    "Read in pinetree output file\n",
    "Filter only gene data\n",
    "Calculate normalized version \n",
    "Add column for ideal ratios:\n",
    "A, A* = 1\n",
    "B, K, C = 6\n",
    "D, E, J = 17\n",
    "F = 11\n",
    "G = 5\n",
    "H = 1"
   ]
  },
  {
   "cell_type": "code",
   "execution_count": 50,
   "id": "0550eba3",
   "metadata": {},
   "outputs": [],
   "source": [
    "def get_error(file):\n",
    "    sim = pd.read_csv(file, sep = \"\\t\")\n",
    "    sim = sim.round({'time': 0})\n",
    "    sim = sim[sim['time'] == 1200.0]\n",
    "    sim = sim[sim.species.str.match(\"gene_\")]\n",
    "    sim[\"norm\"] = sim['transcript']/(sim.iloc[0][\"transcript\"])\n",
    "    sim[\"exp\"] = [1, 1, 6, 6, 17, 17, 11, 5, 1, 17, 6]\n",
    "    error = mean_squared_error(sim.exp, sim.norm, squared = False)\n",
    "    return(error)"
   ]
  },
  {
   "cell_type": "code",
   "execution_count": 51,
   "id": "07ebbec3",
   "metadata": {},
   "outputs": [
    {
     "data": {
      "text/plain": [
       "4.904723217879084"
      ]
     },
     "execution_count": 51,
     "metadata": {},
     "output_type": "execute_result"
    }
   ],
   "source": [
    "get_error(file = base_dir + \"output/gen_\"+str(0)+\".tsv\")"
   ]
  }
 ],
 "metadata": {
  "kernelspec": {
   "display_name": "Python 3",
   "language": "python",
   "name": "python3"
  },
  "language_info": {
   "codemirror_mode": {
    "name": "ipython",
    "version": 3
   },
   "file_extension": ".py",
   "mimetype": "text/x-python",
   "name": "python",
   "nbconvert_exporter": "python",
   "pygments_lexer": "ipython3",
   "version": "3.8.8"
  }
 },
 "nbformat": 4,
 "nbformat_minor": 5
}
