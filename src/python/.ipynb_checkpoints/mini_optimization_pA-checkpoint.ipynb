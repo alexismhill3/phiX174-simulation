{
 "cells": [
  {
   "cell_type": "markdown",
   "id": "2a79121f",
   "metadata": {},
   "source": [
    "### Mini Optimization Script\n",
    "\n",
    "In this script, I will optimize 1 parameter (promoter A binding strength) using first the hill climbing algorithm \n",
    "\n",
    "Overarching steps in this script:\n",
    "1. Define a function that accepts initial parameter estimate for promoter strength (initial pA strength) \n",
    "2. Define an error function that calculates RMSE between experimental value & pinetree output \n",
    "3. Apply a hill climbing algorithm that uses error function "
   ]
  },
  {
   "cell_type": "markdown",
   "id": "3882adab",
   "metadata": {},
   "source": [
    "#### Global variables (KEY)\n",
    "\n",
    "Here is a list of my global variables\n",
    "1. gen = the generation number, ie trial 1 optimization, trial 2...etc\n",
    "2. pA = strength of promoter A\n",
    "3. report_df = dataframe with columns gen | pA | error"
   ]
  },
  {
   "cell_type": "code",
   "execution_count": null,
   "id": "3157429c",
   "metadata": {},
   "outputs": [],
   "source": [
    "# Starting values\n",
    "global gen \n",
    "global pA\n",
    "global total_gen \n",
    "global report_df\n",
    "\n",
    "gen = 0\n",
    "pA = 2e5\n",
    "total_gen = \n",
    "report_df = pd.DataFrame({'A' : [1, 2, 3, 4],\n",
    "                     'B' : [1,2,3,4]})"
   ]
  },
  {
   "cell_type": "markdown",
   "id": "3f4feacd",
   "metadata": {},
   "source": [
    "#### FUNCTION run_pt(gen, pA)\n",
    "This function runs the pinetree simulation\n",
    "\n",
    "Steps in this script: \n",
    "1. Read genomic coordinates from file & add genes \n",
    "2. Add promoters (pA will be passed into the function) \n",
    "3. Add terminators from genomic coordinates & define interactions (borrow from preoptimized_model code) \n",
    "4. Run simulation & output to file named gen_#_pA_#.csv\n"
   ]
  },
  {
   "cell_type": "code",
   "execution_count": 1,
   "id": "2251a446",
   "metadata": {},
   "outputs": [],
   "source": [
    "global x\n",
    "x=5"
   ]
  },
  {
   "cell_type": "code",
   "execution_count": 2,
   "id": "dae77f05",
   "metadata": {},
   "outputs": [
    {
     "data": {
      "text/plain": [
       "3"
      ]
     },
     "execution_count": 2,
     "metadata": {},
     "output_type": "execute_result"
    }
   ],
   "source": [
    "x+3\n",
    "x = 2\n",
    "x+1"
   ]
  },
  {
   "cell_type": "markdown",
   "id": "cc197e33",
   "metadata": {},
   "source": [
    "#### FUNCTION get_error()\n",
    "This function calculates the RMSE between experimental & pinetree transcript values \n",
    "\n",
    "Steps in this script: \n",
    "1. Read genomic coordinates from file \n",
    "2. \n"
   ]
  }
 ],
 "metadata": {
  "kernelspec": {
   "display_name": "Python 3",
   "language": "python",
   "name": "python3"
  },
  "language_info": {
   "codemirror_mode": {
    "name": "ipython",
    "version": 3
   },
   "file_extension": ".py",
   "mimetype": "text/x-python",
   "name": "python",
   "nbconvert_exporter": "python",
   "pygments_lexer": "ipython3",
   "version": "3.8.8"
  }
 },
 "nbformat": 4,
 "nbformat_minor": 5
}
