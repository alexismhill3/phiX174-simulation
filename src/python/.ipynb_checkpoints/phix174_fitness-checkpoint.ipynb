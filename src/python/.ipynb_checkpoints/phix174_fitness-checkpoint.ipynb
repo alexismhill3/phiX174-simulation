{
 "cells": [
  {
   "cell_type": "markdown",
   "id": "2130ec03",
   "metadata": {},
   "source": [
    "### PhiX-174 Fitness\n",
    "\n",
    "In this script, I will use stoichiometric relationships for different structure proteins in PhiX-174 (Leuven 2020) to calculate the fitness of the virus. Fitness will be measured by the number of full virions that are able to be constructed. \n",
    "\n",
    "Here is the stoichiometric relationships taken from Leuven 2020\n",
    "\n",
    "Gene | Function              | Copies \n",
    "A    | DNA rep               | 0\n",
    "A*   | DNA pack              | 0\n",
    "B    | Procapsid scaffolding | 60\n"
   ]
  },
  {
   "cell_type": "code",
   "execution_count": null,
   "id": "de5c6b73",
   "metadata": {},
   "outputs": [],
   "source": [
    " "
   ]
  }
 ],
 "metadata": {
  "kernelspec": {
   "display_name": "Python 3",
   "language": "python",
   "name": "python3"
  },
  "language_info": {
   "codemirror_mode": {
    "name": "ipython",
    "version": 3
   },
   "file_extension": ".py",
   "mimetype": "text/x-python",
   "name": "python",
   "nbconvert_exporter": "python",
   "pygments_lexer": "ipython3",
   "version": "3.8.8"
  }
 },
 "nbformat": 4,
 "nbformat_minor": 5
}
