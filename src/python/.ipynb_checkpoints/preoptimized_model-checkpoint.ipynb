{
 "cells": [
  {
   "cell_type": "markdown",
   "metadata": {},
   "source": [
    "# Pre optimized PhiX-174 Model\n",
    "\n",
    "This script runs pinetree with:\n",
    "1. Approximate gene & promoter locations\n",
    "2. Promoter & terminator strengths guesstimated from Logel"
   ]
  },
  {
   "cell_type": "code",
   "execution_count": 10,
   "metadata": {},
   "outputs": [
    {
     "name": "stdout",
     "output_type": "stream",
     "text": [
      "simulation start\n",
      "constructing cell\n",
      "define genome\n",
      "add the 11 genes\n",
      "add promoters\n",
      "add terminators\n",
      "defining interactions\n",
      "running simulation\n"
     ]
    }
   ],
   "source": [
    "# Import relevant packages\n",
    "import pinetree as pt\n",
    "from Bio import Entrez, SeqIO\n",
    "\n",
    "# Construct Cell\n",
    "CELL_VOLUME = 1.1e-15 # from T7\n",
    "\n",
    "print(\"simulation start\")\n",
    "print(\"constructing cell\")\n",
    "model = pt.Model(cell_volume=CELL_VOLUME)\n",
    "print(\"define genome\")\n",
    "phage = pt.Genome(name=\"phix_174\", length=5386)\n",
    "print(\"add the 11 genes\")\n",
    "phage.add_gene(name=\"gene_A\", start=46, stop=1558, # TODO shift by 15 bp b/c of promoter\n",
    "                 rbs_start=46, rbs_stop=61, rbs_strength=1e7) # TODO better rbs position & strengths\n",
    "phage.add_gene(name=\"gene_A*\", start=526, stop=1558, # TODO shifted for promoter\n",
    "               rbs_start=526, rbs_stop=541, rbs_strength=1e7)\n",
    "phage.add_gene(name=\"gene_B\", start=1088, stop=1447,\n",
    "               rbs_start=1088, rbs_stop=1103, rbs_strength=1e7)\n",
    "phage.add_gene(name=\"gene_C\", start=1530, stop=1791,\n",
    "               rbs_start=1530, rbs_stop=1545, rbs_strength=1e7)\n",
    "phage.add_gene(name=\"gene_D\", start=1793, stop=2251,\n",
    "               rbs_start=1793, rbs_stop=1808, rbs_strength=1e7)\n",
    "phage.add_gene(name=\"gene_E\", start=1971, stop=2246,\n",
    "               rbs_start=1971, rbs_stop=1986, rbs_strength=1e7)\n",
    "phage.add_gene(name=\"gene_F\", start=2404, stop=3687,\n",
    "               rbs_start=2404, rbs_stop=2419, rbs_strength=1e7)\n",
    "phage.add_gene(name=\"gene_G\", start=3798, stop=4325,\n",
    "               rbs_start=3798, rbs_stop=3813, rbs_strength=1e7)\n",
    "phage.add_gene(name=\"gene_H\", start=4334, stop=5320,\n",
    "               rbs_start=4334, rbs_stop=4349, rbs_strength=1e7)\n",
    "phage.add_gene(name=\"gene_J\", start=2251, stop=2367,\n",
    "               rbs_start=2251, rbs_stop=2266, rbs_strength=1e7)\n",
    "phage.add_gene(name=\"gene_K\", start=1454, stop=1624,\n",
    "               rbs_start=1454, rbs_stop=1469, rbs_strength=1e7)\n",
    "\n",
    "# TODO add promoters pA pB and pD, Fig 2\n",
    "print(\"add promoters\")\n",
    "\n",
    "# Promoter strengths approximated from Fig 2\n",
    "# pA = 0.3, pB = 2.5, pD = 2.1\n",
    "phage.add_promoter(name=\"promoter_A\", start=1, stop=45,\n",
    "                     interactions={\"ecolipol\": 6e5}) # 6e7\n",
    "\n",
    "phage.add_promoter(name=\"promoter_B\", start=809, stop=854, # TODO this is promoter B1\n",
    "                   interactions={\"ecolipol\": 5e7}) # 5e8\n",
    "\n",
    "phage.add_promoter(name=\"promoter_D\", start=1710, stop=1755, # TODO this is promoter D\n",
    "                   interactions={\"ecolipol\": 3e6}) # 4.2e8\n",
    "\n",
    "# TODO add terminators Tj Tf Tg Th (locations estimated from Fig 1, Logel; strengths from F2)\n",
    "print(\"add terminators\")\n",
    "# Locations pulled from https://journals.plos.org/plosone/article/figure?id=10.1371/journal.pone.0035909.g001\n",
    "# Changing terminator strenghts to 1 does not fix anything\n",
    "phage.add_terminator(name=\"terminator_J\", start=2402, stop=2403, # Right before gene F start=2404, stop=3687,\n",
    "                       efficiency={\"ecolipol\": 0.7}) # 0.7\n",
    "phage.add_terminator(name=\"terminator_F\", start=3796, stop=3797, # Right before gene G start=3798, stop=4325\n",
    "                     efficiency={\"ecolipol\": 0.8}) # 0.8\n",
    "phage.add_terminator(name=\"terminator_G\", start=4332, stop=4333, # Right before gene H start=4334, stop=5320\n",
    "                     efficiency={\"ecolipol\": 0.6}) # 0.6\n",
    "phage.add_terminator(name=\"terminator_H\", start=5321, stop=5322, # Right after gene H\n",
    "                     efficiency={\"ecolipol\": 0.3}) # 0.3\n",
    "\n",
    "# register genome after promoters/terminators are added\n",
    "model.register_genome(phage)\n",
    "\n",
    "# TODO define interactions\n",
    "print(\"defining interactions\")\n",
    "# Add polymerases & species\n",
    "model.add_polymerase(name=\"ecolipol\", speed=35, footprint=35, copy_number=0) # changing copy number & footprint doesnt fix anything\n",
    "#model.add_polymerase(name=\"ecolipol-p\", speed=35, footprint=15, copy_number=0)\n",
    "model.add_species(\"bound_ecolipol\", 1800)  # initialization\n",
    "#model.add_species(\"bound_ecolipol_p\", 0)\n",
    "model.add_species(\"ecoli_genome\", 0)\n",
    "model.add_species(\"ecoli_transcript\", 0)\n",
    "### E coli reactions - just first 4 ###\n",
    "model.add_reaction(1e6, [\"ecolipol\", \"ecoli_genome\"], [\"bound_ecolipol\"]) # 1e7\n",
    "#model.add_reaction(0.3e7, [\"ecolipol-p\", \"ecoli_genome\"], [\"bound_ecolipol_p\"])  # phospohorylation.\n",
    "model.add_reaction(0.04, [\"bound_ecolipol\"], [\"ecolipol\", \"ecoli_genome\", \"ecoli_transcript\"])\n",
    "#model.add_reaction(0.04, [\"bound_ecolipol_p\"], [\"ecolipol-p\", \"ecoli_genome\", \"ecoli_transcript\"])\n",
    "model.add_ribosome(10, 30, 100)\n",
    "model.add_species(\"bound_ribosome\", 100)\n",
    "model.seed(34)\n",
    "# Run simulation\n",
    "print(\"running simulation\")\n",
    "model.simulate(time_limit=1200, time_step=5, output=\"/Users/t/Documents/Wilke/phix174/output/phix_sample.csv\") # TODO change limit"
   ]
  },
  {
   "cell_type": "code",
   "execution_count": 8,
   "metadata": {},
   "outputs": [
    {
     "data": {
      "text/plain": [
       "'/Users/t/Documents/Wilke/phix174/src/python'"
      ]
     },
     "execution_count": 8,
     "metadata": {},
     "output_type": "execute_result"
    }
   ],
   "source": [
    "pwd()\n"
   ]
  },
  {
   "cell_type": "code",
   "execution_count": null,
   "metadata": {},
   "outputs": [],
   "source": []
  }
 ],
 "metadata": {
  "kernelspec": {
   "display_name": "Python 3",
   "language": "python",
   "name": "python3"
  },
  "language_info": {
   "codemirror_mode": {
    "name": "ipython",
    "version": 3
   },
   "file_extension": ".py",
   "mimetype": "text/x-python",
   "name": "python",
   "nbconvert_exporter": "python",
   "pygments_lexer": "ipython3",
   "version": "3.7.3"
  }
 },
 "nbformat": 4,
 "nbformat_minor": 2
}
