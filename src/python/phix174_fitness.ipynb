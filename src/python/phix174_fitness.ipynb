{
 "cells": [
  {
   "cell_type": "markdown",
   "id": "33e7d9f9",
   "metadata": {},
   "source": [
    "### PhiX-174 Fitness\n",
    "\n",
    "In this script, I will use stoichiometric relationships for different structure proteins in PhiX-174 (Leuven 2020) to calculate the fitness of the virus. Fitness will be measured by the number of full virions that are able to be constructed. \n",
    "\n",
    "Here is the stoichiometric relationships (Leuven 2020) to construct 1 virion \n",
    "\n",
    "Gene | Function                       | Copies \n",
    "A    | DNA rep                        | 0\n",
    "A*   | DNA packaging                  | 0\n",
    "B    | Internal procapsid scaffolding | 60\n",
    "K    | Unknown/not essential          | 0\n",
    "C    | Regulate DNA rep               | 0\n",
    "D    | External procapsid scaffolding | 240\n",
    "E    | Cell Lysis                     | 0\n",
    "J    | DNA packaging                  | 60\n",
    "F    | Major capsid protein           | 60\n",
    "G    | Major spike protein            | 60\n",
    "H    | Minor spike protein            | 12"
   ]
  },
  {
   "cell_type": "markdown",
   "id": "5d2b240c",
   "metadata": {},
   "source": [
    " #### get_fitness()\n",
    "\n",
    "This function calculates the number of full virion particles that can be constructed using transcript abundances of the 11 genes. Elements of this function include:\n",
    "1. Arguments: transcript abundance file to read in, "
   ]
  }
 ],
 "metadata": {
  "kernelspec": {
   "display_name": "Python 3",
   "language": "python",
   "name": "python3"
  },
  "language_info": {
   "codemirror_mode": {
    "name": "ipython",
    "version": 3
   },
   "file_extension": ".py",
   "mimetype": "text/x-python",
   "name": "python",
   "nbconvert_exporter": "python",
   "pygments_lexer": "ipython3",
   "version": "3.8.8"
  }
 },
 "nbformat": 4,
 "nbformat_minor": 5
}
