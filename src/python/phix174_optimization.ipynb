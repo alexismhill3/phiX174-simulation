{
 "cells": [
  {
   "cell_type": "markdown",
   "metadata": {},
   "source": [
    "### Optimizing promoter strengths for phix-174\n",
    "\n",
    "Steps in this script:\n",
    "1. Define a function that accepts initial parameter estimates for promoter strengths\n",
    "2. \n",
    "\n",
    "\n",
    "\n",
    "**feedback from Alexis**\n",
    "\n",
    "*rerun this with multiple (maybe 16?) different starting points; careful choosing incrementation steps; choose starting points within a defined range of values to bound it in some ways; limit number of times it iterates...maybe 1000?; time 1 run to see how long* "
   ]
  },
  {
   "cell_type": "markdown",
   "metadata": {},
   "source": [
    "### Terminology \n",
    "Here I will define how I name things: \n",
    "1. scenario = 1/16 combinations of incrementing 4 promoters; I'll use binary notation to describe each of them. For example, the following case means only incrementing pD. \n",
    "    pA|pB1|pB2|pD\n",
    "    --|---|---|--\n",
    "     0| 0 | 0 | 1\n",
    "    \n",
    "2. generation = each interaction of the 16 different scenarios. \n",
    "    "
   ]
  },
  {
   "cell_type": "markdown",
   "metadata": {},
   "source": [
    "### Brain Dump of Important Things\n",
    "\n",
    "#### Precursor things:\n",
    "1. Create error_vector for scenario values\n",
    "2. generation|starting values|scenario:error|\n",
    "3. Save pinetree output files with generation & scenario\n",
    "   Ex: gen_1_scen_2\n",
    "\n",
    "\n",
    "#### Steps: \n",
    "1. Read in pinetree output file\n",
    "2. Filter only gene data \n",
    "3. Calculate normalized version\n",
    "4. Add column for ideal ratios\n",
    "5. Calculate error with sqrt{(norm - ideal)^2}\n",
    "6. Save error value to a vector"
   ]
  },
  {
   "cell_type": "markdown",
   "metadata": {},
   "source": [
    "#### Error Function\n",
    "Calculate root mean error in transcribe abundances"
   ]
  },
  {
   "cell_type": "code",
   "execution_count": null,
   "metadata": {},
   "outputs": [],
   "source": [
    "def get_error(generation, scenario, ):\n",
    "    "
   ]
  },
  {
   "cell_type": "code",
   "execution_count": 15,
   "metadata": {},
   "outputs": [
    {
     "data": {
      "text/html": [
       "<div>\n",
       "<style scoped>\n",
       "    .dataframe tbody tr th:only-of-type {\n",
       "        vertical-align: middle;\n",
       "    }\n",
       "\n",
       "    .dataframe tbody tr th {\n",
       "        vertical-align: top;\n",
       "    }\n",
       "\n",
       "    .dataframe thead th {\n",
       "        text-align: right;\n",
       "    }\n",
       "</style>\n",
       "<table border=\"1\" class=\"dataframe\">\n",
       "  <thead>\n",
       "    <tr style=\"text-align: right;\">\n",
       "      <th></th>\n",
       "      <th>time</th>\n",
       "      <th>species</th>\n",
       "      <th>protein</th>\n",
       "      <th>transcript</th>\n",
       "      <th>ribo_density</th>\n",
       "    </tr>\n",
       "  </thead>\n",
       "  <tbody>\n",
       "    <tr>\n",
       "      <th>0</th>\n",
       "      <td>0.000000</td>\n",
       "      <td>__gene_A*_rbs</td>\n",
       "      <td>0.0</td>\n",
       "      <td>0.0</td>\n",
       "      <td>0.000000</td>\n",
       "    </tr>\n",
       "    <tr>\n",
       "      <th>1</th>\n",
       "      <td>0.000000</td>\n",
       "      <td>__gene_A_rbs</td>\n",
       "      <td>0.0</td>\n",
       "      <td>0.0</td>\n",
       "      <td>0.000000</td>\n",
       "    </tr>\n",
       "    <tr>\n",
       "      <th>2</th>\n",
       "      <td>0.000000</td>\n",
       "      <td>__gene_B_rbs</td>\n",
       "      <td>0.0</td>\n",
       "      <td>0.0</td>\n",
       "      <td>0.000000</td>\n",
       "    </tr>\n",
       "    <tr>\n",
       "      <th>3</th>\n",
       "      <td>0.000000</td>\n",
       "      <td>__gene_C_rbs</td>\n",
       "      <td>0.0</td>\n",
       "      <td>0.0</td>\n",
       "      <td>0.000000</td>\n",
       "    </tr>\n",
       "    <tr>\n",
       "      <th>4</th>\n",
       "      <td>0.000000</td>\n",
       "      <td>__gene_D_rbs</td>\n",
       "      <td>0.0</td>\n",
       "      <td>0.0</td>\n",
       "      <td>0.000000</td>\n",
       "    </tr>\n",
       "    <tr>\n",
       "      <th>...</th>\n",
       "      <td>...</td>\n",
       "      <td>...</td>\n",
       "      <td>...</td>\n",
       "      <td>...</td>\n",
       "      <td>...</td>\n",
       "    </tr>\n",
       "    <tr>\n",
       "      <th>7359</th>\n",
       "      <td>1199.999102</td>\n",
       "      <td>gene_J</td>\n",
       "      <td>1326.0</td>\n",
       "      <td>804.0</td>\n",
       "      <td>0.007463</td>\n",
       "    </tr>\n",
       "    <tr>\n",
       "      <th>7360</th>\n",
       "      <td>1199.999102</td>\n",
       "      <td>gene_K</td>\n",
       "      <td>1351.0</td>\n",
       "      <td>808.0</td>\n",
       "      <td>0.007426</td>\n",
       "    </tr>\n",
       "    <tr>\n",
       "      <th>7361</th>\n",
       "      <td>1199.999102</td>\n",
       "      <td>promoter_A</td>\n",
       "      <td>1.0</td>\n",
       "      <td>0.0</td>\n",
       "      <td>0.000000</td>\n",
       "    </tr>\n",
       "    <tr>\n",
       "      <th>7362</th>\n",
       "      <td>1199.999102</td>\n",
       "      <td>promoter_B</td>\n",
       "      <td>0.0</td>\n",
       "      <td>0.0</td>\n",
       "      <td>0.000000</td>\n",
       "    </tr>\n",
       "    <tr>\n",
       "      <th>7363</th>\n",
       "      <td>1199.999102</td>\n",
       "      <td>promoter_D</td>\n",
       "      <td>0.0</td>\n",
       "      <td>0.0</td>\n",
       "      <td>0.000000</td>\n",
       "    </tr>\n",
       "  </tbody>\n",
       "</table>\n",
       "<p>7364 rows × 5 columns</p>\n",
       "</div>"
      ],
      "text/plain": [
       "             time        species  protein  transcript  ribo_density\n",
       "0        0.000000  __gene_A*_rbs      0.0         0.0      0.000000\n",
       "1        0.000000   __gene_A_rbs      0.0         0.0      0.000000\n",
       "2        0.000000   __gene_B_rbs      0.0         0.0      0.000000\n",
       "3        0.000000   __gene_C_rbs      0.0         0.0      0.000000\n",
       "4        0.000000   __gene_D_rbs      0.0         0.0      0.000000\n",
       "...           ...            ...      ...         ...           ...\n",
       "7359  1199.999102         gene_J   1326.0       804.0      0.007463\n",
       "7360  1199.999102         gene_K   1351.0       808.0      0.007426\n",
       "7361  1199.999102     promoter_A      1.0         0.0      0.000000\n",
       "7362  1199.999102     promoter_B      0.0         0.0      0.000000\n",
       "7363  1199.999102     promoter_D      0.0         0.0      0.000000\n",
       "\n",
       "[7364 rows x 5 columns]"
      ]
     },
     "metadata": {},
     "output_type": "display_data"
    },
    {
     "ename": "TypeError",
     "evalue": "'>' not supported between instances of 'str' and 'int'",
     "output_type": "error",
     "traceback": [
      "\u001b[0;31m---------------------------------------------------------------------------\u001b[0m",
      "\u001b[0;31mTypeError\u001b[0m                                 Traceback (most recent call last)",
      "\u001b[0;32m<ipython-input-15-3852b69593e4>\u001b[0m in \u001b[0;36m<module>\u001b[0;34m\u001b[0m\n\u001b[1;32m      2\u001b[0m \u001b[0mdf\u001b[0m \u001b[0;34m=\u001b[0m \u001b[0mpd\u001b[0m\u001b[0;34m.\u001b[0m\u001b[0mread_csv\u001b[0m\u001b[0;34m(\u001b[0m\u001b[0;34m\"/Users/tanviingle/Documents/Wilke/phix174/output/phix_sample.tsv\"\u001b[0m\u001b[0;34m,\u001b[0m \u001b[0msep\u001b[0m\u001b[0;34m=\u001b[0m\u001b[0;34m'\\t'\u001b[0m\u001b[0;34m)\u001b[0m\u001b[0;34m\u001b[0m\u001b[0;34m\u001b[0m\u001b[0m\n\u001b[1;32m      3\u001b[0m \u001b[0mdisplay\u001b[0m\u001b[0;34m(\u001b[0m\u001b[0mdf\u001b[0m\u001b[0;34m)\u001b[0m\u001b[0;34m\u001b[0m\u001b[0;34m\u001b[0m\u001b[0m\n\u001b[0;32m----> 4\u001b[0;31m \u001b[0mdf1\u001b[0m \u001b[0;34m=\u001b[0m \u001b[0mdf\u001b[0m\u001b[0;34m[\u001b[0m\u001b[0;34m\"time\"\u001b[0m \u001b[0;34m>\u001b[0m \u001b[0;36m1199\u001b[0m\u001b[0;34m]\u001b[0m\u001b[0;34m\u001b[0m\u001b[0;34m\u001b[0m\u001b[0m\n\u001b[0m\u001b[1;32m      5\u001b[0m \u001b[0mdisplay\u001b[0m\u001b[0;34m(\u001b[0m\u001b[0mdf1\u001b[0m\u001b[0;34m)\u001b[0m\u001b[0;34m\u001b[0m\u001b[0;34m\u001b[0m\u001b[0m\n",
      "\u001b[0;31mTypeError\u001b[0m: '>' not supported between instances of 'str' and 'int'"
     ]
    }
   ],
   "source": [
    "import pandas as pd\n",
    "df = pd.read_csv(\"/Users/tanviingle/Documents/Wilke/phix174/output/phix_sample.tsv\", sep='\\t')\n",
    "display(df)\n",
    "df1 = df[df[time]]\n",
    "display(df1)"
   ]
  },
  {
   "cell_type": "raw",
   "metadata": {},
   "source": []
  }
 ],
 "metadata": {
  "kernelspec": {
   "display_name": "Python 3",
   "language": "python",
   "name": "python3"
  },
  "language_info": {
   "codemirror_mode": {
    "name": "ipython",
    "version": 3
   },
   "file_extension": ".py",
   "mimetype": "text/x-python",
   "name": "python",
   "nbconvert_exporter": "python",
   "pygments_lexer": "ipython3",
   "version": "3.8.8"
  }
 },
 "nbformat": 4,
 "nbformat_minor": 2
}
