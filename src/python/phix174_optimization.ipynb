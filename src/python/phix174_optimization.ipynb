{
 "cells": [
  {
   "cell_type": "markdown",
   "metadata": {},
   "source": [
    "### Optimizing promoter strengths for phix-174\n",
    "\n",
    "Steps in this script:\n",
    "1. Define a function that accepts initial parameter estimates for promoter strengths\n",
    "2. \n",
    "\n",
    "\n",
    "\n",
    "**feedback from Alexis**\n",
    "\n",
    "*rerun this with multiple (maybe 16?) different starting points; careful choosing incrementation steps; choose starting points within a defined range of values to bound it in some ways; limit number of times it iterates...maybe 1000?; time 1 run to see how long* "
   ]
  },
  {
   "cell_type": "code",
   "execution_count": null,
   "metadata": {},
   "outputs": [],
   "source": [
    "1"
   ]
  }
 ],
 "metadata": {
  "kernelspec": {
   "display_name": "Python 3",
   "language": "python",
   "name": "python3"
  },
  "language_info": {
   "codemirror_mode": {
    "name": "ipython",
    "version": 3
   },
   "file_extension": ".py",
   "mimetype": "text/x-python",
   "name": "python",
   "nbconvert_exporter": "python",
   "pygments_lexer": "ipython3",
   "version": "3.7.3"
  }
 },
 "nbformat": 4,
 "nbformat_minor": 2
}
