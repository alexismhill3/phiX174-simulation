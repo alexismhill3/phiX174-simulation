{
 "cells": [
  {
   "cell_type": "markdown",
   "metadata": {},
   "source": [
    "### Optimizing promoter strengths for phix-174\n",
    "In this script, I will optimize the promoter strengths for each of the three promoter sites in Phix_174. \n",
    "\n",
    "#### Main Idea\n",
    "1. Define a unique normal distribution (**~N(u,o)**) for each of the three promoters (pA, pB, pD). Let the promoter strength be **e^u_value** and step size be the st. deviation **o**. \n",
    "\n",
    "2. Define a normal distribution (**~N(0.5,?)**) to describe **lambda**. Here, **lambda** represents the value by which the step size will be scaled.\n",
    "\n",
    "3. Randomly select a promoter to optimize (pA, pB, pD). Feed promoter values into pinetree & calculate RMSE. If the new error (**NE**) is less than the old error (**OE**), then keep the promoter value. If not, increment the promoter value by the step size (add **e^o**). Keep repeating with randomly selected **o** value until **NE** < **OE**. *Stop after 5 iterations & move onto the next promoter value.*\n",
    "\n",
    "#### Key Attributes\n",
    "1. \n",
    "\n",
    "#### Terminology/Naming Conventions"
   ]
  },
  {
   "cell_type": "code",
   "execution_count": null,
   "metadata": {},
   "outputs": [],
   "source": []
  },
  {
   "cell_type": "code",
   "execution_count": null,
   "metadata": {},
   "outputs": [],
   "source": []
  },
  {
   "cell_type": "raw",
   "metadata": {},
   "source": []
  }
 ],
 "metadata": {
  "kernelspec": {
   "display_name": "Python 3",
   "language": "python",
   "name": "python3"
  },
  "language_info": {
   "codemirror_mode": {
    "name": "ipython",
    "version": 3
   },
   "file_extension": ".py",
   "mimetype": "text/x-python",
   "name": "python",
   "nbconvert_exporter": "python",
   "pygments_lexer": "ipython3",
   "version": "3.8.8"
  }
 },
 "nbformat": 4,
 "nbformat_minor": 2
}
