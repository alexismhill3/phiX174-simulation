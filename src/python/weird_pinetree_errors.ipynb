{
 "cells": [
  {
   "cell_type": "markdown",
   "id": "dd2cfb86",
   "metadata": {},
   "source": [
    "### Pinetree Errors"
   ]
  },
  {
   "cell_type": "code",
   "execution_count": 15,
   "id": "784405df",
   "metadata": {},
   "outputs": [],
   "source": [
    "import pandas as pd\n",
    "import numpy as np\n",
    "import pinetree as pt\n",
    "from sklearn.metrics import mean_squared_error \n",
    "base_dir = \"/Users/tanviingle/Documents/Wilke/phix174/\"\n",
    "\n",
    "def run_pt(gen, pA, pB, pD):\n",
    "    print(gen, pA)\n",
    "    print(\"Defining PhiX-174 genome\")\n",
    "\n",
    "    # Create host cell & genome\n",
    "    CELL_VOLUME = 1.1e-15 # from T7\n",
    "    model = pt.Model(cell_volume=CELL_VOLUME)\n",
    "    phage = pt.Genome(name=\"phix_174\", length=5386)\n",
    "\n",
    "    # Read genomic coordinates from csv into dataframe\n",
    "    genomic_coords = pd.read_csv(base_dir + \"output/\" + \"genomic_coords.csv\")\n",
    "    print(genomic_coords.at[0, \"type\"])\n",
    "\n",
    "\n",
    "    # Add genomic ns (loop through ^ df); hardcode necessary strengths according to preomtimized_model\n",
    "    ## for length of genomic_coords, add elements\n",
    "    #for n in genomic_coords:{\n",
    "    n = 0\n",
    "    while(n < len(genomic_coords)):\n",
    "\n",
    "        if genomic_coords.at[n, \"type\"] == \"gene\": \n",
    "            phage.add_gene(name= genomic_coords.at[n, \"type\"] + \"_\" + genomic_coords.at[n, \"name\"], \n",
    "                           start= genomic_coords.at[n, \"new_start\"], \n",
    "                           stop= genomic_coords.at[n, \"new_end\"],\n",
    "                           rbs_start=genomic_coords.at[n, \"new_start\"], \n",
    "                           rbs_stop=genomic_coords.at[n, \"new_start\"] + 15, rbs_strength=1e7) \n",
    "\n",
    "        elif genomic_coords.at[n, \"type\"] == \"promoter\" and genomic_coords.at[n, \"name\"] == \"A\":\n",
    "            phage.add_promoter(name= genomic_coords.at[n, \"type\"] + \"_\" + genomic_coords.at[n, \"name\"], \n",
    "                               start= genomic_coords.at[n, \"new_start\"], \n",
    "                               stop= genomic_coords.at[n, \"new_end\"]+1,\n",
    "                               interactions={\"ecolipol\": pA})\n",
    "\n",
    "        elif genomic_coords.at[n, \"type\"] == \"promoter\" and genomic_coords.at[n, \"name\"] == \"B1\":\n",
    "            phage.add_promoter(name= genomic_coords.at[n, \"type\"] + \"_\" + genomic_coords.at[n, \"name\"], \n",
    "                               start= genomic_coords.at[n, \"new_start\"], \n",
    "                               stop= genomic_coords.at[n, \"new_end\"],\n",
    "                               interactions={\"ecolipol\": pB})\n",
    "\n",
    "        elif genomic_coords.at[n, \"type\"] == \"promoter\" and genomic_coords.at[n, \"name\"] == \"D\":\n",
    "            phage.add_promoter(name= genomic_coords.at[n, \"type\"] + \"_\" + genomic_coords.at[n, \"name\"], \n",
    "                               start= genomic_coords.at[n, \"new_start\"], \n",
    "                               stop= genomic_coords.at[n, \"new_end\"],\n",
    "                               interactions={\"ecolipol\": pD})\n",
    "\n",
    "        else:\n",
    "            print(\"ignoring pB2\")\n",
    "\n",
    "        n = n+1\n",
    "\n",
    "    print(\"all genes and promoters added\")\n",
    "\n",
    "    # Add terminators manually \n",
    "    phage.add_terminator(name=\"terminator_J\", start=2434, stop=2435, # Right before gene F start=2404, stop=3687,\n",
    "                       efficiency={\"ecolipol\": 0.7}) # 0.7; 2402-2403\n",
    "    phage.add_terminator(name=\"terminator_F\", start=3754, stop=3755, # Right before gene G start=3798, stop=4325\n",
    "                     efficiency={\"ecolipol\": 0.8}) # 0.8; 3796-3797\n",
    "    phage.add_terminator(name=\"terminator_G\", start=4392, stop=4393, # Right before gene H start=4334, stop=5320\n",
    "                     efficiency={\"ecolipol\": 0.6}) # 0.6; 4332-4333\n",
    "    phage.add_terminator(name=\"terminator_H\", start=47, stop=48, # Right after promoter A\n",
    "                     efficiency={\"ecolipol\": 0.3}) # 0.3; 5321-5322\n",
    "\n",
    "    print(\"all terminators added\")\n",
    "\n",
    "    # Register genome after promoters/terminators are added\n",
    "    model.register_genome(phage)\n",
    "    print(\"genome is registered\")\n",
    "\n",
    "    # Define interactions\n",
    "    print(\"Defining Polymerases & Interactions\")\n",
    "    # Add polymerases & species\n",
    "    model.add_polymerase(name=\"ecolipol\", speed=35, footprint=35, copy_number=0)\n",
    "    model.add_species(\"bound_ecolipol\", 1800)  # initialization\n",
    "    model.add_species(\"ecoli_genome\", 0)\n",
    "    model.add_species(\"ecoli_transcript\", 0)\n",
    "    model.add_reaction(1e6, [\"ecolipol\", \"ecoli_genome\"], [\"bound_ecolipol\"]) # 1e7\n",
    "    model.add_reaction(0.04, [\"bound_ecolipol\"], [\"ecolipol\", \"ecoli_genome\", \"ecoli_transcript\"])\n",
    "    model.add_ribosome(10, 30, 100)\n",
    "    model.add_species(\"bound_ribosome\", 100)\n",
    "    model.seed(34)\n",
    "\n",
    "    # Run simulation\n",
    "    print(\"running simulation\")\n",
    "    model.simulate(time_limit=2000, time_step=5, output= base_dir + \"output/overlap_poly_error.tsv\") # TODO change limit\n",
    "    print(\"Simulation successful!\")"
   ]
  },
  {
   "cell_type": "markdown",
   "id": "83d07945",
   "metadata": {},
   "source": [
    "#### ERROR 1: Overlapping polymerases\n",
    "Pinetree output reads: Polymerase __ribosome (start: 2317, stop: 2326, index: 2) is overlapping polymerase __ribosome (start: 2323, stop: 2332, index: 3) by more than one position on polymer __rna"
   ]
  },
  {
   "cell_type": "code",
   "execution_count": 17,
   "id": "d06e5a9a",
   "metadata": {},
   "outputs": [
    {
     "name": "stdout",
     "output_type": "stream",
     "text": [
      "0 200000.0\n",
      "Defining PhiX-174 genome\n",
      "gene\n",
      "ignoring pB2\n",
      "all genes and promoters added\n",
      "all terminators added\n",
      "genome is registered\n",
      "Defining Polymerases & Interactions\n",
      "running simulation\n",
      "Simulation successful!\n"
     ]
    }
   ],
   "source": [
    "gen = 0\n",
    "pA = 2e5\n",
    "#pB = 5e7\n",
    "#pD = 2e6\n",
    "pB = 5e5\n",
    "pD = 5e6\n",
    "\n",
    "run_pt(gen, pA, pB, pD)"
   ]
  },
  {
   "cell_type": "code",
   "execution_count": null,
   "id": "11bbc458",
   "metadata": {},
   "outputs": [],
   "source": [
    "gen = 0\n",
    "pA = 2e5\n",
    "pB = 6.25*pA\n",
    "pD = 5.25*pA\n",
    "\n",
    "run_pt(gen, pA, pB, pD)"
   ]
  }
 ],
 "metadata": {
  "kernelspec": {
   "display_name": "Python 3",
   "language": "python",
   "name": "python3"
  },
  "language_info": {
   "codemirror_mode": {
    "name": "ipython",
    "version": 3
   },
   "file_extension": ".py",
   "mimetype": "text/x-python",
   "name": "python",
   "nbconvert_exporter": "python",
   "pygments_lexer": "ipython3",
   "version": "3.8.8"
  }
 },
 "nbformat": 4,
 "nbformat_minor": 5
}
