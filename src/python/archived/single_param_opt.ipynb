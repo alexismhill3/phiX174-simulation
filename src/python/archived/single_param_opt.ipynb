{
 "cells": [
  {
   "cell_type": "markdown",
   "id": "51429f67",
   "metadata": {},
   "source": [
    "### Single Parameter Optimization Script\n",
    "In this script, I create a generalized function that will optimize 1 parameter as specified by the user. \n",
    "\n",
    "The main function will \n",
    "1. Have an argument to specify which paramter will be optimized\n",
    "2. Run pinetree w/ Hill climbing\n",
    "3. Plot distribution of transcript abundances\n",
    "\n",
    "In this script, I will optimize each of the promoter strengths individually to get a feel for how each paramter influences the overall distribution. "
   ]
  },
  {
   "cell_type": "code",
   "execution_count": 2,
   "id": "9bf95870",
   "metadata": {},
   "outputs": [],
   "source": [
    "%load_ext rpy2.ipython"
   ]
  },
  {
   "cell_type": "code",
   "execution_count": 7,
   "id": "fe1e8041",
   "metadata": {},
   "outputs": [
    {
     "name": "stdout",
     "output_type": "stream",
     "text": [
      "[1] \"a\" \"b\" \"c\"\n"
     ]
    },
    {
     "data": {
      "text/html": [
       "\n",
       "        <span>StrVector with 3 elements.</span>\n",
       "        <table>\n",
       "        <tbody>\n",
       "          <tr>\n",
       "          \n",
       "            <td>\n",
       "            'a'\n",
       "            </td>\n",
       "          \n",
       "            <td>\n",
       "            'b'\n",
       "            </td>\n",
       "          \n",
       "            <td>\n",
       "            'c'\n",
       "            </td>\n",
       "          \n",
       "          </tr>\n",
       "        </tbody>\n",
       "        </table>\n",
       "        "
      ],
      "text/plain": [
       "<rpy2.robjects.vectors.StrVector object at 0x7f921a1185c0> [RTYPES.STRSXP]\n",
       "R classes: ('character',)\n",
       "['a', 'b', 'c']"
      ]
     },
     "execution_count": 7,
     "metadata": {},
     "output_type": "execute_result"
    }
   ],
   "source": [
    "%R \n",
    "\n",
    "%R test <- c(\"a\", \"b\", \"c\") |>\n",
    "\n",
    "%R print(test)"
   ]
  },
  {
   "cell_type": "code",
   "execution_count": null,
   "id": "5fd683a4",
   "metadata": {},
   "outputs": [],
   "source": []
  }
 ],
 "metadata": {
  "kernelspec": {
   "display_name": "Python 3",
   "language": "python",
   "name": "python3"
  },
  "language_info": {
   "codemirror_mode": {
    "name": "ipython",
    "version": 3
   },
   "file_extension": ".py",
   "mimetype": "text/x-python",
   "name": "python",
   "nbconvert_exporter": "python",
   "pygments_lexer": "ipython3",
   "version": "3.8.8"
  }
 },
 "nbformat": 4,
 "nbformat_minor": 5
}
